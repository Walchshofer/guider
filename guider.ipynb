{
 "cells": [
  {
   "cell_type": "code",
   "execution_count": null,
   "metadata": {},
   "outputs": [],
   "source": [
    "# %pip install guidance\n",
    "# %pip install git+https://github.com/microsoft/guidance\n",
    "# %pip install git+https://github.com/huggingface/transformers\n",
    "# %pip install sentence-transformers\n",
    "%pip install -r requirements.txt"
   ]
  },
  {
   "cell_type": "code",
   "execution_count": null,
   "metadata": {},
   "outputs": [],
   "source": [
    "!git clone https://github.com/qwopqwop200/GPTQ-for-LLaMa gptq"
   ]
  },
  {
   "cell_type": "code",
   "execution_count": null,
   "metadata": {},
   "outputs": [],
   "source": [
    "%pip install huggingface_hub\n",
    "from huggingface_hub import snapshot_download\n",
    "snapshot_download(repo_id='TheBloke/Wizard-Vicuna-13B-Uncensored-GPTQ', local_dir=\"./models/Wizard-Vicuna-13B-Uncensored-GPTQ\")\n",
    "# snapshot_download(repo_id='TheBloke/guanaco-13B-GPTQ', local_dir=\"./models/guanaco-13B-GPTQ\")"
   ]
  },
  {
   "cell_type": "code",
   "execution_count": null,
   "metadata": {},
   "outputs": [],
   "source": [
    "from guider_server import run\n",
    "run()"
   ]
  }
 ],
 "metadata": {
  "kernelspec": {
   "display_name": "guider",
   "language": "python",
   "name": "python3"
  },
  "language_info": {
   "codemirror_mode": {
    "name": "ipython",
    "version": 3
   },
   "file_extension": ".py",
   "mimetype": "text/x-python",
   "name": "python",
   "nbconvert_exporter": "python",
   "pygments_lexer": "ipython3",
   "version": "3.11.3"
  },
  "orig_nbformat": 4
 },
 "nbformat": 4,
 "nbformat_minor": 2
}
