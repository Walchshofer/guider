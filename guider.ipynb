{
 "cells": [
  {
   "cell_type": "code",
   "execution_count": 1,
   "metadata": {},
   "outputs": [
    {
     "name": "stdout",
     "output_type": "stream",
     "text": [
      "Collecting git+https://github.com/microsoft/guidance (from -r requirements.txt (line 4))\n",
      "  Cloning https://github.com/microsoft/guidance to /tmp/pip-req-build-55yjokty\n",
      "  Running command git clone --filter=blob:none --quiet https://github.com/microsoft/guidance /tmp/pip-req-build-55yjokty\n",
      "  Resolved https://github.com/microsoft/guidance to commit 5f7fa7f6eef6455e6940fe743c5bfdb557330d0b\n",
      "  Preparing metadata (setup.py) ... \u001b[?25ldone\n",
      "\u001b[?25hRequirement already satisfied: torch in /home/andy/miniconda3/envs/guider-exllama/lib/python3.10/site-packages (from -r requirements.txt (line 1)) (2.0.1)\n",
      "Requirement already satisfied: sentence-transformers in /home/andy/miniconda3/envs/guider-exllama/lib/python3.10/site-packages (from -r requirements.txt (line 2)) (2.2.2)\n",
      "Requirement already satisfied: toml in /home/andy/miniconda3/envs/guider-exllama/lib/python3.10/site-packages (from -r requirements.txt (line 3)) (0.10.2)\n",
      "Requirement already satisfied: transformers in /home/andy/miniconda3/envs/guider-exllama/lib/python3.10/site-packages (from -r requirements.txt (line 9)) (4.30.2)\n",
      "Requirement already satisfied: huggingface_hub in /home/andy/miniconda3/envs/guider-exllama/lib/python3.10/site-packages (from -r requirements.txt (line 10)) (0.15.1)\n",
      "Requirement already satisfied: safetensors==0.3.1 in /home/andy/miniconda3/envs/guider-exllama/lib/python3.10/site-packages (from -r requirements.txt (line 13)) (0.3.1)\n",
      "Requirement already satisfied: sentencepiece>=0.1.97 in /home/andy/miniconda3/envs/guider-exllama/lib/python3.10/site-packages (from -r requirements.txt (line 14)) (0.1.99)\n",
      "Requirement already satisfied: ninja==1.11.1 in /home/andy/miniconda3/envs/guider-exllama/lib/python3.10/site-packages (from -r requirements.txt (line 15)) (1.11.1)\n",
      "Requirement already satisfied: filelock in /home/andy/miniconda3/envs/guider-exllama/lib/python3.10/site-packages (from torch->-r requirements.txt (line 1)) (3.12.2)\n",
      "Requirement already satisfied: typing-extensions in /home/andy/miniconda3/envs/guider-exllama/lib/python3.10/site-packages (from torch->-r requirements.txt (line 1)) (4.6.3)\n",
      "Requirement already satisfied: sympy in /home/andy/miniconda3/envs/guider-exllama/lib/python3.10/site-packages (from torch->-r requirements.txt (line 1)) (1.12)\n",
      "Requirement already satisfied: networkx in /home/andy/miniconda3/envs/guider-exllama/lib/python3.10/site-packages (from torch->-r requirements.txt (line 1)) (3.1)\n",
      "Requirement already satisfied: jinja2 in /home/andy/miniconda3/envs/guider-exllama/lib/python3.10/site-packages (from torch->-r requirements.txt (line 1)) (3.1.2)\n",
      "Requirement already satisfied: nvidia-cuda-nvrtc-cu11==11.7.99 in /home/andy/miniconda3/envs/guider-exllama/lib/python3.10/site-packages (from torch->-r requirements.txt (line 1)) (11.7.99)\n",
      "Requirement already satisfied: nvidia-cuda-runtime-cu11==11.7.99 in /home/andy/miniconda3/envs/guider-exllama/lib/python3.10/site-packages (from torch->-r requirements.txt (line 1)) (11.7.99)\n",
      "Requirement already satisfied: nvidia-cuda-cupti-cu11==11.7.101 in /home/andy/miniconda3/envs/guider-exllama/lib/python3.10/site-packages (from torch->-r requirements.txt (line 1)) (11.7.101)\n",
      "Requirement already satisfied: nvidia-cudnn-cu11==8.5.0.96 in /home/andy/miniconda3/envs/guider-exllama/lib/python3.10/site-packages (from torch->-r requirements.txt (line 1)) (8.5.0.96)\n",
      "Requirement already satisfied: nvidia-cublas-cu11==11.10.3.66 in /home/andy/miniconda3/envs/guider-exllama/lib/python3.10/site-packages (from torch->-r requirements.txt (line 1)) (11.10.3.66)\n",
      "Requirement already satisfied: nvidia-cufft-cu11==10.9.0.58 in /home/andy/miniconda3/envs/guider-exllama/lib/python3.10/site-packages (from torch->-r requirements.txt (line 1)) (10.9.0.58)\n",
      "Requirement already satisfied: nvidia-curand-cu11==10.2.10.91 in /home/andy/miniconda3/envs/guider-exllama/lib/python3.10/site-packages (from torch->-r requirements.txt (line 1)) (10.2.10.91)\n",
      "Requirement already satisfied: nvidia-cusolver-cu11==11.4.0.1 in /home/andy/miniconda3/envs/guider-exllama/lib/python3.10/site-packages (from torch->-r requirements.txt (line 1)) (11.4.0.1)\n",
      "Requirement already satisfied: nvidia-cusparse-cu11==11.7.4.91 in /home/andy/miniconda3/envs/guider-exllama/lib/python3.10/site-packages (from torch->-r requirements.txt (line 1)) (11.7.4.91)\n",
      "Requirement already satisfied: nvidia-nccl-cu11==2.14.3 in /home/andy/miniconda3/envs/guider-exllama/lib/python3.10/site-packages (from torch->-r requirements.txt (line 1)) (2.14.3)\n",
      "Requirement already satisfied: nvidia-nvtx-cu11==11.7.91 in /home/andy/miniconda3/envs/guider-exllama/lib/python3.10/site-packages (from torch->-r requirements.txt (line 1)) (11.7.91)\n",
      "Requirement already satisfied: triton==2.0.0 in /home/andy/miniconda3/envs/guider-exllama/lib/python3.10/site-packages (from torch->-r requirements.txt (line 1)) (2.0.0)\n",
      "Requirement already satisfied: setuptools in /home/andy/miniconda3/envs/guider-exllama/lib/python3.10/site-packages (from nvidia-cublas-cu11==11.10.3.66->torch->-r requirements.txt (line 1)) (67.8.0)\n",
      "Requirement already satisfied: wheel in /home/andy/miniconda3/envs/guider-exllama/lib/python3.10/site-packages (from nvidia-cublas-cu11==11.10.3.66->torch->-r requirements.txt (line 1)) (0.38.4)\n",
      "Requirement already satisfied: cmake in /home/andy/miniconda3/envs/guider-exllama/lib/python3.10/site-packages (from triton==2.0.0->torch->-r requirements.txt (line 1)) (3.26.4)\n",
      "Requirement already satisfied: lit in /home/andy/miniconda3/envs/guider-exllama/lib/python3.10/site-packages (from triton==2.0.0->torch->-r requirements.txt (line 1)) (16.0.6)\n",
      "Requirement already satisfied: tqdm in /home/andy/miniconda3/envs/guider-exllama/lib/python3.10/site-packages (from sentence-transformers->-r requirements.txt (line 2)) (4.65.0)\n",
      "Requirement already satisfied: torchvision in /home/andy/miniconda3/envs/guider-exllama/lib/python3.10/site-packages (from sentence-transformers->-r requirements.txt (line 2)) (0.15.2)\n",
      "Requirement already satisfied: numpy in /home/andy/miniconda3/envs/guider-exllama/lib/python3.10/site-packages (from sentence-transformers->-r requirements.txt (line 2)) (1.25.0)\n",
      "Requirement already satisfied: scikit-learn in /home/andy/miniconda3/envs/guider-exllama/lib/python3.10/site-packages (from sentence-transformers->-r requirements.txt (line 2)) (1.2.2)\n",
      "Requirement already satisfied: scipy in /home/andy/miniconda3/envs/guider-exllama/lib/python3.10/site-packages (from sentence-transformers->-r requirements.txt (line 2)) (1.10.1)\n",
      "Requirement already satisfied: nltk in /home/andy/miniconda3/envs/guider-exllama/lib/python3.10/site-packages (from sentence-transformers->-r requirements.txt (line 2)) (3.8.1)\n",
      "Requirement already satisfied: diskcache in /home/andy/miniconda3/envs/guider-exllama/lib/python3.10/site-packages (from guidance==0.0.63->-r requirements.txt (line 4)) (5.6.1)\n",
      "Requirement already satisfied: gptcache in /home/andy/miniconda3/envs/guider-exllama/lib/python3.10/site-packages (from guidance==0.0.63->-r requirements.txt (line 4)) (0.1.32)\n",
      "Requirement already satisfied: openai>=0.27 in /home/andy/miniconda3/envs/guider-exllama/lib/python3.10/site-packages (from guidance==0.0.63->-r requirements.txt (line 4)) (0.27.8)\n",
      "Requirement already satisfied: pyparsing in /home/andy/miniconda3/envs/guider-exllama/lib/python3.10/site-packages (from guidance==0.0.63->-r requirements.txt (line 4)) (3.0.9)\n",
      "Requirement already satisfied: pygtrie in /home/andy/miniconda3/envs/guider-exllama/lib/python3.10/site-packages (from guidance==0.0.63->-r requirements.txt (line 4)) (2.5.0)\n",
      "Requirement already satisfied: platformdirs in /home/andy/miniconda3/envs/guider-exllama/lib/python3.10/site-packages (from guidance==0.0.63->-r requirements.txt (line 4)) (3.5.3)\n",
      "Requirement already satisfied: tiktoken>=0.3 in /home/andy/miniconda3/envs/guider-exllama/lib/python3.10/site-packages (from guidance==0.0.63->-r requirements.txt (line 4)) (0.4.0)\n",
      "Requirement already satisfied: nest_asyncio in /home/andy/miniconda3/envs/guider-exllama/lib/python3.10/site-packages (from guidance==0.0.63->-r requirements.txt (line 4)) (1.5.6)\n",
      "Requirement already satisfied: msal in /home/andy/miniconda3/envs/guider-exllama/lib/python3.10/site-packages (from guidance==0.0.63->-r requirements.txt (line 4)) (1.22.0)\n",
      "Requirement already satisfied: requests in /home/andy/miniconda3/envs/guider-exllama/lib/python3.10/site-packages (from guidance==0.0.63->-r requirements.txt (line 4)) (2.31.0)\n",
      "Requirement already satisfied: aiohttp in /home/andy/miniconda3/envs/guider-exllama/lib/python3.10/site-packages (from guidance==0.0.63->-r requirements.txt (line 4)) (3.8.4)\n",
      "Requirement already satisfied: packaging>=20.0 in /home/andy/miniconda3/envs/guider-exllama/lib/python3.10/site-packages (from transformers->-r requirements.txt (line 9)) (23.1)\n",
      "Requirement already satisfied: pyyaml>=5.1 in /home/andy/miniconda3/envs/guider-exllama/lib/python3.10/site-packages (from transformers->-r requirements.txt (line 9)) (6.0)\n",
      "Requirement already satisfied: regex!=2019.12.17 in /home/andy/miniconda3/envs/guider-exllama/lib/python3.10/site-packages (from transformers->-r requirements.txt (line 9)) (2023.6.3)\n",
      "Requirement already satisfied: tokenizers!=0.11.3,<0.14,>=0.11.1 in /home/andy/miniconda3/envs/guider-exllama/lib/python3.10/site-packages (from transformers->-r requirements.txt (line 9)) (0.13.3)\n",
      "Requirement already satisfied: fsspec in /home/andy/miniconda3/envs/guider-exllama/lib/python3.10/site-packages (from huggingface_hub->-r requirements.txt (line 10)) (2023.6.0)\n",
      "Requirement already satisfied: charset-normalizer<4,>=2 in /home/andy/miniconda3/envs/guider-exllama/lib/python3.10/site-packages (from requests->guidance==0.0.63->-r requirements.txt (line 4)) (3.1.0)\n",
      "Requirement already satisfied: idna<4,>=2.5 in /home/andy/miniconda3/envs/guider-exllama/lib/python3.10/site-packages (from requests->guidance==0.0.63->-r requirements.txt (line 4)) (3.4)\n",
      "Requirement already satisfied: urllib3<3,>=1.21.1 in /home/andy/miniconda3/envs/guider-exllama/lib/python3.10/site-packages (from requests->guidance==0.0.63->-r requirements.txt (line 4)) (2.0.3)\n",
      "Requirement already satisfied: certifi>=2017.4.17 in /home/andy/miniconda3/envs/guider-exllama/lib/python3.10/site-packages (from requests->guidance==0.0.63->-r requirements.txt (line 4)) (2023.5.7)\n",
      "Requirement already satisfied: attrs>=17.3.0 in /home/andy/miniconda3/envs/guider-exllama/lib/python3.10/site-packages (from aiohttp->guidance==0.0.63->-r requirements.txt (line 4)) (23.1.0)\n",
      "Requirement already satisfied: multidict<7.0,>=4.5 in /home/andy/miniconda3/envs/guider-exllama/lib/python3.10/site-packages (from aiohttp->guidance==0.0.63->-r requirements.txt (line 4)) (6.0.4)\n",
      "Requirement already satisfied: async-timeout<5.0,>=4.0.0a3 in /home/andy/miniconda3/envs/guider-exllama/lib/python3.10/site-packages (from aiohttp->guidance==0.0.63->-r requirements.txt (line 4)) (4.0.2)\n",
      "Requirement already satisfied: yarl<2.0,>=1.0 in /home/andy/miniconda3/envs/guider-exllama/lib/python3.10/site-packages (from aiohttp->guidance==0.0.63->-r requirements.txt (line 4)) (1.9.2)\n",
      "Requirement already satisfied: frozenlist>=1.1.1 in /home/andy/miniconda3/envs/guider-exllama/lib/python3.10/site-packages (from aiohttp->guidance==0.0.63->-r requirements.txt (line 4)) (1.3.3)\n",
      "Requirement already satisfied: aiosignal>=1.1.2 in /home/andy/miniconda3/envs/guider-exllama/lib/python3.10/site-packages (from aiohttp->guidance==0.0.63->-r requirements.txt (line 4)) (1.3.1)\n",
      "Requirement already satisfied: cachetools in /home/andy/miniconda3/envs/guider-exllama/lib/python3.10/site-packages (from gptcache->guidance==0.0.63->-r requirements.txt (line 4)) (5.3.1)\n",
      "Requirement already satisfied: MarkupSafe>=2.0 in /home/andy/miniconda3/envs/guider-exllama/lib/python3.10/site-packages (from jinja2->torch->-r requirements.txt (line 1)) (2.1.1)\n",
      "Requirement already satisfied: PyJWT[crypto]<3,>=1.0.0 in /home/andy/miniconda3/envs/guider-exllama/lib/python3.10/site-packages (from msal->guidance==0.0.63->-r requirements.txt (line 4)) (2.7.0)\n",
      "Requirement already satisfied: cryptography<43,>=0.6 in /home/andy/miniconda3/envs/guider-exllama/lib/python3.10/site-packages (from msal->guidance==0.0.63->-r requirements.txt (line 4)) (41.0.1)\n",
      "Requirement already satisfied: click in /home/andy/miniconda3/envs/guider-exllama/lib/python3.10/site-packages (from nltk->sentence-transformers->-r requirements.txt (line 2)) (8.1.3)\n",
      "Requirement already satisfied: joblib in /home/andy/miniconda3/envs/guider-exllama/lib/python3.10/site-packages (from nltk->sentence-transformers->-r requirements.txt (line 2)) (1.2.0)\n",
      "Requirement already satisfied: threadpoolctl>=2.0.0 in /home/andy/miniconda3/envs/guider-exllama/lib/python3.10/site-packages (from scikit-learn->sentence-transformers->-r requirements.txt (line 2)) (3.1.0)\n",
      "Requirement already satisfied: mpmath>=0.19 in /home/andy/miniconda3/envs/guider-exllama/lib/python3.10/site-packages (from sympy->torch->-r requirements.txt (line 1)) (1.3.0)\n",
      "Requirement already satisfied: pillow!=8.3.*,>=5.3.0 in /home/andy/miniconda3/envs/guider-exllama/lib/python3.10/site-packages (from torchvision->sentence-transformers->-r requirements.txt (line 2)) (9.5.0)\n",
      "Requirement already satisfied: cffi>=1.12 in /home/andy/miniconda3/envs/guider-exllama/lib/python3.10/site-packages (from cryptography<43,>=0.6->msal->guidance==0.0.63->-r requirements.txt (line 4)) (1.15.0)\n",
      "Requirement already satisfied: pycparser in /home/andy/miniconda3/envs/guider-exllama/lib/python3.10/site-packages (from cffi>=1.12->cryptography<43,>=0.6->msal->guidance==0.0.63->-r requirements.txt (line 4)) (2.21)\n",
      "Note: you may need to restart the kernel to use updated packages.\n"
     ]
    }
   ],
   "source": [
    "%pip install -r requirements.txt"
   ]
  },
  {
   "cell_type": "code",
   "execution_count": 2,
   "metadata": {},
   "outputs": [
    {
     "name": "stderr",
     "output_type": "stream",
     "text": [
      "/home/andy/miniconda3/envs/guider-exllama/lib/python3.10/site-packages/tqdm/auto.py:21: TqdmWarning: IProgress not found. Please update jupyter and ipywidgets. See https://ipywidgets.readthedocs.io/en/stable/user_install.html\n",
      "  from .autonotebook import tqdm as notebook_tqdm\n"
     ]
    },
    {
     "name": "stdout",
     "output_type": "stream",
     "text": [
      "Initializing LLaMAGPTQ with model TheBloke/Wizard-Vicuna-13B-Uncensored-GPTQ\n"
     ]
    },
    {
     "name": "stderr",
     "output_type": "stream",
     "text": [
      "Fetching 11 files: 100%|██████████| 11/11 [00:00<00:00, 43.38it/s]\n"
     ]
    },
    {
     "name": "stdout",
     "output_type": "stream",
     "text": [
      "Loaded model and tokenizer.\n",
      "Loading tokenizer from: ./models/Wizard-Vicuna-13B-Uncensored-GPTQ\n",
      "Token healing enabled: True\n",
      "Starting httpd...\n",
      "\n",
      "post incoming: /chat\n",
      "streaming chat requested\n",
      "getting model output...\n"
     ]
    },
    {
     "name": "stderr",
     "output_type": "stream",
     "text": [
      "127.0.0.1 - - [17/Jun/2023 17:48:21] \"POST /chat HTTP/1.1\" 200 -\n",
      "----------------------------------------\n",
      "Exception occurred during processing of request from ('127.0.0.1', 42468)\n",
      "Traceback (most recent call last):\n",
      "  File \"/home/andy/miniconda3/envs/guider-exllama/lib/python3.10/socketserver.py\", line 316, in _handle_request_noblock\n",
      "    self.process_request(request, client_address)\n",
      "  File \"/home/andy/miniconda3/envs/guider-exllama/lib/python3.10/socketserver.py\", line 347, in process_request\n",
      "    self.finish_request(request, client_address)\n",
      "  File \"/home/andy/miniconda3/envs/guider-exllama/lib/python3.10/socketserver.py\", line 360, in finish_request\n",
      "    self.RequestHandlerClass(request, client_address, self)\n",
      "  File \"/home/andy/miniconda3/envs/guider-exllama/lib/python3.10/socketserver.py\", line 747, in __init__\n",
      "    self.handle()\n",
      "  File \"/home/andy/miniconda3/envs/guider-exllama/lib/python3.10/http/server.py\", line 433, in handle\n",
      "    self.handle_one_request()\n",
      "  File \"/home/andy/miniconda3/envs/guider-exllama/lib/python3.10/http/server.py\", line 421, in handle_one_request\n",
      "    method()\n",
      "  File \"/home/andy/repos/guider/guider_server.py\", line 37, in do_POST\n",
      "    self.handle_chat_streaming()\n",
      "  File \"/home/andy/repos/guider/guider_server.py\", line 136, in handle_chat_streaming\n",
      "    for output in g(stream=True, **parameters):\n",
      "  File \"/home/andy/miniconda3/envs/guider-exllama/lib/python3.10/site-packages/guidance/_program.py\", line 293, in _stream_run\n",
      "    loop.run_until_complete(execute_task) # this will stop each time the program wants to emit a new state\n",
      "  File \"/home/andy/miniconda3/envs/guider-exllama/lib/python3.10/site-packages/nest_asyncio.py\", line 90, in run_until_complete\n",
      "    return f.result()\n",
      "  File \"/home/andy/miniconda3/envs/guider-exllama/lib/python3.10/asyncio/futures.py\", line 201, in result\n",
      "    raise self._exception.with_traceback(self._exception_tb)\n",
      "  File \"/home/andy/miniconda3/envs/guider-exllama/lib/python3.10/asyncio/tasks.py\", line 232, in __step\n",
      "    result = coro.send(None)\n",
      "  File \"/home/andy/miniconda3/envs/guider-exllama/lib/python3.10/site-packages/guidance/_program.py\", line 426, in execute\n",
      "    with self.llm.session(asynchronous=True) as llm_session:\n",
      "  File \"/home/andy/miniconda3/envs/guider-exllama/lib/python3.10/site-packages/guidance/llms/_transformers.py\", line 158, in __enter__\n",
      "    self.llm.model_obj._orig_prepare_method = self.llm.model_obj.prepare_inputs_for_generation\n",
      "AttributeError: 'ExLlamaWrapper' object has no attribute 'prepare_inputs_for_generation'\n",
      "----------------------------------------\n"
     ]
    }
   ],
   "source": [
    "from guider_server import run\n",
    "# run('TheBloke/tulu-13B-GPTQ', 'gptq_model-4bit-128g')\n",
    "run('TheBloke/Wizard-Vicuna-13B-Uncensored-GPTQ', 'Wizard-Vicuna-13B-Uncensored-GPTQ-4bit-128g.compat.no-act-order')"
   ]
  },
  {
   "cell_type": "code",
   "execution_count": null,
   "metadata": {},
   "outputs": [],
   "source": [
    "%tb"
   ]
  }
 ],
 "metadata": {
  "kernelspec": {
   "display_name": "guider",
   "language": "python",
   "name": "python3"
  },
  "language_info": {
   "codemirror_mode": {
    "name": "ipython",
    "version": 3
   },
   "file_extension": ".py",
   "mimetype": "text/x-python",
   "name": "python",
   "nbconvert_exporter": "python",
   "pygments_lexer": "ipython3",
   "version": "3.10.11"
  },
  "orig_nbformat": 4
 },
 "nbformat": 4,
 "nbformat_minor": 2
}
